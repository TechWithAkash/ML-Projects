{
 "cells": [
  {
   "cell_type": "code",
   "execution_count": 2,
   "id": "7ab49b08",
   "metadata": {},
   "outputs": [
    {
     "data": {
      "text/plain": [
       "4"
      ]
     },
     "execution_count": 2,
     "metadata": {},
     "output_type": "execute_result"
    }
   ],
   "source": [
    "2+2"
   ]
  },
  {
   "cell_type": "code",
   "execution_count": 3,
   "id": "7331aa98",
   "metadata": {},
   "outputs": [],
   "source": [
    "import pandas as pd\n",
    "import numpy as np\n",
    "import matplotlib.pyplot as plt\n",
    "import seaborn as sns\n",
    "\n",
    "#Modeling\n",
    "from sklearn.neighbors import KNeighborsRegressor\n",
    "from sklearn.tree import DecisionTreeRegressor\n",
    "from sklearn.ensemble import RandomForestRegressor,AdaBoostRegressor\n",
    "from sklearn.linear_model import LinearRegression,Ridge,Lasso\n",
    "from sklearn.metrics import mean_squared_error, r2_score\n",
    "from sklearn.model_selection import train_test_split,GridSearchCV,RandomizedSearchCV\n",
    "from catboost import CatBoostRegressor\n",
    "from xgboost import XGBRegressor\n",
    "import warnings \n",
    "warnings.filterwarnings('ignore')\n"
   ]
  },
  {
   "cell_type": "code",
   "execution_count": 4,
   "id": "78bf2c1d",
   "metadata": {},
   "outputs": [
    {
     "data": {
      "text/html": [
       "<div>\n",
       "<style scoped>\n",
       "    .dataframe tbody tr th:only-of-type {\n",
       "        vertical-align: middle;\n",
       "    }\n",
       "\n",
       "    .dataframe tbody tr th {\n",
       "        vertical-align: top;\n",
       "    }\n",
       "\n",
       "    .dataframe thead th {\n",
       "        text-align: right;\n",
       "    }\n",
       "</style>\n",
       "<table border=\"1\" class=\"dataframe\">\n",
       "  <thead>\n",
       "    <tr style=\"text-align: right;\">\n",
       "      <th></th>\n",
       "      <th>gender</th>\n",
       "      <th>race_ethnicity</th>\n",
       "      <th>parental_level_of_education</th>\n",
       "      <th>lunch</th>\n",
       "      <th>test_preparation_course</th>\n",
       "      <th>math_score</th>\n",
       "      <th>reading_score</th>\n",
       "      <th>writing_score</th>\n",
       "    </tr>\n",
       "  </thead>\n",
       "  <tbody>\n",
       "    <tr>\n",
       "      <th>0</th>\n",
       "      <td>female</td>\n",
       "      <td>group B</td>\n",
       "      <td>bachelor's degree</td>\n",
       "      <td>standard</td>\n",
       "      <td>none</td>\n",
       "      <td>72</td>\n",
       "      <td>72</td>\n",
       "      <td>74</td>\n",
       "    </tr>\n",
       "    <tr>\n",
       "      <th>1</th>\n",
       "      <td>female</td>\n",
       "      <td>group C</td>\n",
       "      <td>some college</td>\n",
       "      <td>standard</td>\n",
       "      <td>completed</td>\n",
       "      <td>69</td>\n",
       "      <td>90</td>\n",
       "      <td>88</td>\n",
       "    </tr>\n",
       "    <tr>\n",
       "      <th>2</th>\n",
       "      <td>female</td>\n",
       "      <td>group B</td>\n",
       "      <td>master's degree</td>\n",
       "      <td>standard</td>\n",
       "      <td>none</td>\n",
       "      <td>90</td>\n",
       "      <td>95</td>\n",
       "      <td>93</td>\n",
       "    </tr>\n",
       "    <tr>\n",
       "      <th>3</th>\n",
       "      <td>male</td>\n",
       "      <td>group A</td>\n",
       "      <td>associate's degree</td>\n",
       "      <td>free/reduced</td>\n",
       "      <td>none</td>\n",
       "      <td>47</td>\n",
       "      <td>57</td>\n",
       "      <td>44</td>\n",
       "    </tr>\n",
       "    <tr>\n",
       "      <th>4</th>\n",
       "      <td>male</td>\n",
       "      <td>group C</td>\n",
       "      <td>some college</td>\n",
       "      <td>standard</td>\n",
       "      <td>none</td>\n",
       "      <td>76</td>\n",
       "      <td>78</td>\n",
       "      <td>75</td>\n",
       "    </tr>\n",
       "  </tbody>\n",
       "</table>\n",
       "</div>"
      ],
      "text/plain": [
       "   gender race_ethnicity parental_level_of_education         lunch  \\\n",
       "0  female        group B           bachelor's degree      standard   \n",
       "1  female        group C                some college      standard   \n",
       "2  female        group B             master's degree      standard   \n",
       "3    male        group A          associate's degree  free/reduced   \n",
       "4    male        group C                some college      standard   \n",
       "\n",
       "  test_preparation_course  math_score  reading_score  writing_score  \n",
       "0                    none          72             72             74  \n",
       "1               completed          69             90             88  \n",
       "2                    none          90             95             93  \n",
       "3                    none          47             57             44  \n",
       "4                    none          76             78             75  "
      ]
     },
     "execution_count": 4,
     "metadata": {},
     "output_type": "execute_result"
    }
   ],
   "source": [
    "df = pd.read_csv('data/stud.csv')\n",
    "df.head()"
   ]
  },
  {
   "cell_type": "markdown",
   "id": "4db5bfe5",
   "metadata": {},
   "source": [
    "##### Segreggating Independent and Dependent variable"
   ]
  },
  {
   "cell_type": "code",
   "execution_count": 5,
   "id": "37e97b14",
   "metadata": {},
   "outputs": [],
   "source": [
    "X = df.drop(columns=['math_score'],axis=1)"
   ]
  },
  {
   "cell_type": "code",
   "execution_count": 6,
   "id": "a1275948",
   "metadata": {},
   "outputs": [],
   "source": [
    "y = df['math_score']"
   ]
  },
  {
   "cell_type": "code",
   "execution_count": 8,
   "id": "b5c7228a",
   "metadata": {},
   "outputs": [],
   "source": [
    "# Create a Column Transformer with 3 type of Transformer\n",
    "num_features = X.select_dtypes(exclude='object').columns\n",
    "cat_features = X.select_dtypes(include='object').columns\n",
    "\n",
    "from sklearn.preprocessing import StandardScaler\n",
    "from sklearn.compose import  ColumnTransformer\n",
    "from sklearn.preprocessing import OneHotEncoder\n",
    "\n",
    "numeric_transformer = StandardScaler()\n",
    "oh_transformer = OneHotEncoder()\n",
    "\n",
    "preprocessor = ColumnTransformer(\n",
    "    [\n",
    "        (\"OneHotEncoder\", oh_transformer, cat_features),\n",
    "        (\"StandardScaler\", numeric_transformer, num_features)\n",
    "    ]\n",
    "\n",
    "\n",
    ")"
   ]
  },
  {
   "cell_type": "code",
   "execution_count": 9,
   "id": "9fde561a",
   "metadata": {},
   "outputs": [],
   "source": [
    "X = preprocessor.fit_transform(X)"
   ]
  },
  {
   "cell_type": "code",
   "execution_count": 10,
   "id": "0564c270",
   "metadata": {},
   "outputs": [
    {
     "data": {
      "text/plain": [
       "array([[ 1.        ,  0.        ,  0.        , ...,  1.        ,\n",
       "         0.19399858,  0.39149181],\n",
       "       [ 1.        ,  0.        ,  0.        , ...,  0.        ,\n",
       "         1.42747598,  1.31326868],\n",
       "       [ 1.        ,  0.        ,  0.        , ...,  1.        ,\n",
       "         1.77010859,  1.64247471],\n",
       "       ...,\n",
       "       [ 1.        ,  0.        ,  0.        , ...,  0.        ,\n",
       "         0.12547206, -0.20107904],\n",
       "       [ 1.        ,  0.        ,  0.        , ...,  0.        ,\n",
       "         0.60515772,  0.58901542],\n",
       "       [ 1.        ,  0.        ,  0.        , ...,  1.        ,\n",
       "         1.15336989,  1.18158627]])"
      ]
     },
     "execution_count": 10,
     "metadata": {},
     "output_type": "execute_result"
    }
   ],
   "source": [
    "X"
   ]
  },
  {
   "cell_type": "markdown",
   "id": "ed5e617e",
   "metadata": {},
   "source": [
    "- Seperate datasets into train,test,split\n"
   ]
  },
  {
   "cell_type": "code",
   "execution_count": 11,
   "id": "c1058a0d",
   "metadata": {},
   "outputs": [
    {
     "data": {
      "text/plain": [
       "((800, 19), (200, 19))"
      ]
     },
     "execution_count": 11,
     "metadata": {},
     "output_type": "execute_result"
    }
   ],
   "source": [
    "from sklearn.model_selection import train_test_split\n",
    "X_train,X_test,y_train,y_test = train_test_split(X,y,test_size=0.2,random_state=42)\n",
    "X_train.shape,X_test.shape"
   ]
  },
  {
   "cell_type": "markdown",
   "id": "8277fadf",
   "metadata": {},
   "source": [
    "#### Create an Evaluate fnction to give all metrics after model Training"
   ]
  },
  {
   "cell_type": "code",
   "execution_count": 15,
   "id": "22cba024",
   "metadata": {},
   "outputs": [],
   "source": [
    "from sklearn.metrics import mean_absolute_error\n",
    "\n",
    "def evaluate_model(true, predicted):\n",
    "    mae = mean_absolute_error(true, predicted)\n",
    "    mse = mean_squared_error(true, predicted)\n",
    "    rmse = np.sqrt(mse)\n",
    "    r2_square = r2_score(true, predicted)\n",
    "    return mae, mse, rmse, r2_square\n"
   ]
  },
  {
   "cell_type": "code",
   "execution_count": 16,
   "id": "ff86adbf",
   "metadata": {},
   "outputs": [
    {
     "name": "stdout",
     "output_type": "stream",
     "text": [
      "Linear Regression\n",
      "Model Performance for Training Dataset\n",
      "- Root Mean Squared Error: 28.3349 \n",
      "- Mean Squared Error: 5.3231 \n",
      "- Mean Absolute Error: 4.2667 \n",
      "- R2 Score: 0.8743 \n",
      "\n",
      "\n",
      "------------------------------------------\n",
      "Model Performance for Testing Dataset\n",
      "- Root Mean Squared Error: 29.0952 \n",
      "- Mean Squared Error: 5.3940 \n",
      "- Mean Absolute Error: 4.2148 \n",
      "- R2 Score: 0.8804 \n",
      "\n",
      "\n",
      "==========================================\n",
      "\n",
      "\n",
      "Lasso\n",
      "Model Performance for Training Dataset\n",
      "- Root Mean Squared Error: 43.4784 \n",
      "- Mean Squared Error: 6.5938 \n",
      "- Mean Absolute Error: 5.2063 \n",
      "- R2 Score: 0.8071 \n",
      "\n",
      "\n",
      "------------------------------------------\n",
      "Model Performance for Testing Dataset\n",
      "- Root Mean Squared Error: 42.5064 \n",
      "- Mean Squared Error: 6.5197 \n",
      "- Mean Absolute Error: 5.1579 \n",
      "- R2 Score: 0.8253 \n",
      "\n",
      "\n",
      "==========================================\n",
      "\n",
      "\n",
      "Ridge\n",
      "Model Performance for Training Dataset\n",
      "- Root Mean Squared Error: 28.3378 \n",
      "- Mean Squared Error: 5.3233 \n",
      "- Mean Absolute Error: 4.2650 \n",
      "- R2 Score: 0.8743 \n",
      "\n",
      "\n",
      "------------------------------------------\n",
      "Model Performance for Testing Dataset\n",
      "- Root Mean Squared Error: 29.0563 \n",
      "- Mean Squared Error: 5.3904 \n",
      "- Mean Absolute Error: 4.2111 \n",
      "- R2 Score: 0.8806 \n",
      "\n",
      "\n",
      "==========================================\n",
      "\n",
      "\n"
     ]
    },
    {
     "name": "stderr",
     "output_type": "stream",
     "text": [
      "  File \"c:\\ProgramData\\anaconda3\\lib\\site-packages\\joblib\\externals\\loky\\backend\\context.py\", line 227, in _count_physical_cores\n",
      "    cpu_info = subprocess.run(\n",
      "  File \"c:\\ProgramData\\anaconda3\\lib\\subprocess.py\", line 503, in run\n",
      "    with Popen(*popenargs, **kwargs) as process:\n",
      "  File \"c:\\ProgramData\\anaconda3\\lib\\subprocess.py\", line 971, in __init__\n",
      "    self._execute_child(args, executable, preexec_fn, close_fds,\n",
      "  File \"c:\\ProgramData\\anaconda3\\lib\\subprocess.py\", line 1440, in _execute_child\n",
      "    hp, ht, pid, tid = _winapi.CreateProcess(executable, args,\n"
     ]
    },
    {
     "name": "stdout",
     "output_type": "stream",
     "text": [
      "KNeighborsRegressor\n",
      "Model Performance for Training Dataset\n",
      "- Root Mean Squared Error: 32.5953 \n",
      "- Mean Squared Error: 5.7092 \n",
      "- Mean Absolute Error: 4.5180 \n",
      "- R2 Score: 0.8554 \n",
      "\n",
      "\n",
      "------------------------------------------\n",
      "Model Performance for Testing Dataset\n",
      "- Root Mean Squared Error: 52.5860 \n",
      "- Mean Squared Error: 7.2516 \n",
      "- Mean Absolute Error: 5.6160 \n",
      "- R2 Score: 0.7839 \n",
      "\n",
      "\n",
      "==========================================\n",
      "\n",
      "\n",
      "DecisionTreeRegressor\n",
      "Model Performance for Training Dataset\n",
      "- Root Mean Squared Error: 0.0781 \n",
      "- Mean Squared Error: 0.2795 \n",
      "- Mean Absolute Error: 0.0187 \n",
      "- R2 Score: 0.9997 \n",
      "\n",
      "\n",
      "------------------------------------------\n",
      "Model Performance for Testing Dataset\n",
      "- Root Mean Squared Error: 63.9050 \n",
      "- Mean Squared Error: 7.9941 \n",
      "- Mean Absolute Error: 6.3050 \n",
      "- R2 Score: 0.7374 \n",
      "\n",
      "\n",
      "==========================================\n",
      "\n",
      "\n",
      "RandomForestRegressor\n",
      "Model Performance for Training Dataset\n",
      "- Root Mean Squared Error: 5.3711 \n",
      "- Mean Squared Error: 2.3176 \n",
      "- Mean Absolute Error: 1.8337 \n",
      "- R2 Score: 0.9762 \n",
      "\n",
      "\n",
      "------------------------------------------\n",
      "Model Performance for Testing Dataset\n",
      "- Root Mean Squared Error: 35.8776 \n",
      "- Mean Squared Error: 5.9898 \n",
      "- Mean Absolute Error: 4.6513 \n",
      "- R2 Score: 0.8526 \n",
      "\n",
      "\n",
      "==========================================\n",
      "\n",
      "\n",
      "AdaBoostRegressor\n",
      "Model Performance for Training Dataset\n",
      "- Root Mean Squared Error: 33.7745 \n",
      "- Mean Squared Error: 5.8116 \n",
      "- Mean Absolute Error: 4.7651 \n",
      "- R2 Score: 0.8502 \n",
      "\n",
      "\n",
      "------------------------------------------\n",
      "Model Performance for Testing Dataset\n",
      "- Root Mean Squared Error: 37.7879 \n",
      "- Mean Squared Error: 6.1472 \n",
      "- Mean Absolute Error: 4.7367 \n",
      "- R2 Score: 0.8447 \n",
      "\n",
      "\n",
      "==========================================\n",
      "\n",
      "\n",
      "CatBoostRegressor\n",
      "Model Performance for Training Dataset\n",
      "- Root Mean Squared Error: 9.2578 \n",
      "- Mean Squared Error: 3.0427 \n",
      "- Mean Absolute Error: 2.4054 \n",
      "- R2 Score: 0.9589 \n",
      "\n",
      "\n",
      "------------------------------------------\n",
      "Model Performance for Testing Dataset\n",
      "- Root Mean Squared Error: 36.1037 \n",
      "- Mean Squared Error: 6.0086 \n",
      "- Mean Absolute Error: 4.6125 \n",
      "- R2 Score: 0.8516 \n",
      "\n",
      "\n",
      "==========================================\n",
      "\n",
      "\n",
      "XGBRegressor\n",
      "Model Performance for Training Dataset\n",
      "- Root Mean Squared Error: 1.0146 \n",
      "- Mean Squared Error: 1.0073 \n",
      "- Mean Absolute Error: 0.6875 \n",
      "- R2 Score: 0.9955 \n",
      "\n",
      "\n",
      "------------------------------------------\n",
      "Model Performance for Testing Dataset\n",
      "- Root Mean Squared Error: 41.9037 \n",
      "- Mean Squared Error: 6.4733 \n",
      "- Mean Absolute Error: 5.0577 \n",
      "- R2 Score: 0.8278 \n",
      "\n",
      "\n",
      "==========================================\n",
      "\n",
      "\n"
     ]
    }
   ],
   "source": [
    "models = {\n",
    "    \"Linear Regression\" : LinearRegression(),\n",
    "    \"Lasso\" : Lasso(),\n",
    "    \"Ridge\" : Ridge(),\n",
    "    \"KNeighborsRegressor\" : KNeighborsRegressor(),\n",
    "    \"DecisionTreeRegressor\" : DecisionTreeRegressor(),\n",
    "    \"RandomForestRegressor\" : RandomForestRegressor(),\n",
    "    \"AdaBoostRegressor\" : AdaBoostRegressor(),\n",
    "    \"CatBoostRegressor\" : CatBoostRegressor(verbose=0),\n",
    "    \"XGBRegressor\" : XGBRegressor()\n",
    "}\n",
    "\n",
    "model_list = []\n",
    "r2_list = []\n",
    "\n",
    "for i in range((len(models))):\n",
    "    model = list(models.values())[i]\n",
    "    # Train the Model\n",
    "    model.fit(X_train,y_train)\n",
    "\n",
    "    # Predict the Model\n",
    "    y_train_pred = model.predict(X_train)\n",
    "    y_test_pred = model.predict(X_test)\n",
    "\n",
    "    # Evaluate the Model through train test dataset\n",
    "    model_train_mae,model_train_rmse,model_train_mse,model_train_r2 = evaluate_model(y_train,y_train_pred)\n",
    "\n",
    "    model_test_mae,model_test_rmse,model_test_mse,model_test_r2 = evaluate_model(y_test,y_test_pred)\n",
    "\n",
    "    print(list(models.keys())[i])\n",
    "    model_list.append(list(models.keys())[i])\n",
    "\n",
    "    print(\"Model Performance for Training Dataset\")\n",
    "    print(\"- Root Mean Squared Error: {:.4f} \".format(model_train_rmse))\n",
    "\n",
    "    print(\"- Mean Squared Error: {:.4f} \".format(model_train_mse))\n",
    "    print(\"- Mean Absolute Error: {:.4f} \".format(model_train_mae))\n",
    "    print(\"- R2 Score: {:.4f} \".format(model_train_r2))\n",
    "    print(\"\\n\")\n",
    "\n",
    "\n",
    "    print(\"------------------------------------------\")\n",
    "\n",
    "\n",
    "    print(\"Model Performance for Testing Dataset\")\n",
    "    print(\"- Root Mean Squared Error: {:.4f} \".format(model_test_rmse))\n",
    "    print(\"- Mean Squared Error: {:.4f} \".format(model_test_mse))\n",
    "    print(\"- Mean Absolute Error: {:.4f} \".format(model_test_mae))\n",
    "    print(\"- R2 Score: {:.4f} \".format(model_test_r2))\n",
    "    r2_list.append(model_test_r2)\n",
    "    print(\"\\n\")\n",
    "    print(\"==========================================\")\n",
    "    print(\"\\n\")\n",
    "\n",
    "\n",
    "\n"
   ]
  },
  {
   "cell_type": "markdown",
   "id": "ec291eb8",
   "metadata": {},
   "source": [
    "## Final Results"
   ]
  },
  {
   "cell_type": "code",
   "execution_count": 17,
   "id": "b5f89859",
   "metadata": {},
   "outputs": [
    {
     "data": {
      "text/html": [
       "<div>\n",
       "<style scoped>\n",
       "    .dataframe tbody tr th:only-of-type {\n",
       "        vertical-align: middle;\n",
       "    }\n",
       "\n",
       "    .dataframe tbody tr th {\n",
       "        vertical-align: top;\n",
       "    }\n",
       "\n",
       "    .dataframe thead th {\n",
       "        text-align: right;\n",
       "    }\n",
       "</style>\n",
       "<table border=\"1\" class=\"dataframe\">\n",
       "  <thead>\n",
       "    <tr style=\"text-align: right;\">\n",
       "      <th></th>\n",
       "      <th>Model</th>\n",
       "      <th>R2_Score</th>\n",
       "    </tr>\n",
       "  </thead>\n",
       "  <tbody>\n",
       "    <tr>\n",
       "      <th>2</th>\n",
       "      <td>Ridge</td>\n",
       "      <td>0.880593</td>\n",
       "    </tr>\n",
       "    <tr>\n",
       "      <th>0</th>\n",
       "      <td>Linear Regression</td>\n",
       "      <td>0.880433</td>\n",
       "    </tr>\n",
       "    <tr>\n",
       "      <th>5</th>\n",
       "      <td>RandomForestRegressor</td>\n",
       "      <td>0.852561</td>\n",
       "    </tr>\n",
       "    <tr>\n",
       "      <th>7</th>\n",
       "      <td>CatBoostRegressor</td>\n",
       "      <td>0.851632</td>\n",
       "    </tr>\n",
       "    <tr>\n",
       "      <th>6</th>\n",
       "      <td>AdaBoostRegressor</td>\n",
       "      <td>0.844711</td>\n",
       "    </tr>\n",
       "    <tr>\n",
       "      <th>8</th>\n",
       "      <td>XGBRegressor</td>\n",
       "      <td>0.827797</td>\n",
       "    </tr>\n",
       "    <tr>\n",
       "      <th>1</th>\n",
       "      <td>Lasso</td>\n",
       "      <td>0.825320</td>\n",
       "    </tr>\n",
       "    <tr>\n",
       "      <th>3</th>\n",
       "      <td>KNeighborsRegressor</td>\n",
       "      <td>0.783898</td>\n",
       "    </tr>\n",
       "    <tr>\n",
       "      <th>4</th>\n",
       "      <td>DecisionTreeRegressor</td>\n",
       "      <td>0.737382</td>\n",
       "    </tr>\n",
       "  </tbody>\n",
       "</table>\n",
       "</div>"
      ],
      "text/plain": [
       "                   Model  R2_Score\n",
       "2                  Ridge  0.880593\n",
       "0      Linear Regression  0.880433\n",
       "5  RandomForestRegressor  0.852561\n",
       "7      CatBoostRegressor  0.851632\n",
       "6      AdaBoostRegressor  0.844711\n",
       "8           XGBRegressor  0.827797\n",
       "1                  Lasso  0.825320\n",
       "3    KNeighborsRegressor  0.783898\n",
       "4  DecisionTreeRegressor  0.737382"
      ]
     },
     "execution_count": 17,
     "metadata": {},
     "output_type": "execute_result"
    }
   ],
   "source": [
    "pd.DataFrame(list(zip(model_list,r2_list)),columns=['Model','R2_Score']).sort_values(by='R2_Score',ascending=False)"
   ]
  },
  {
   "cell_type": "markdown",
   "id": "ef021a75",
   "metadata": {},
   "source": [
    "# Let's go For Linear Regression"
   ]
  },
  {
   "cell_type": "code",
   "execution_count": 18,
   "id": "af02df92",
   "metadata": {},
   "outputs": [
    {
     "name": "stdout",
     "output_type": "stream",
     "text": [
      "R2 Score for Linear Regression Model: 88.04%\n"
     ]
    }
   ],
   "source": [
    "lin_model = LinearRegression(fit_intercept=True)\n",
    "lin_model = lin_model.fit(X_train,y_train)\n",
    "y_pred = lin_model.predict(X_test)\n",
    "score = r2_score(y_test, y_pred)*100\n",
    "print(f\"R2 Score for Linear Regression Model: {score:.2f}%\")"
   ]
  },
  {
   "cell_type": "markdown",
   "id": "e8f56fb1",
   "metadata": {},
   "source": [
    "#### Plot y_pred and y_test"
   ]
  },
  {
   "cell_type": "code",
   "execution_count": 19,
   "id": "c051f9e4",
   "metadata": {},
   "outputs": [
    {
     "data": {
      "image/png": "[encoded data removed]",
      "text/plain": [
       "<Figure size 640x480 with 1 Axes>"
      ]
     },
     "metadata": {},
     "output_type": "display_data"
    }
   ],
   "source": [
    "plt.scatter(y_test,y_pred)\n",
    "plt.xlabel(\"Actual Values\")\n",
    "plt.ylabel(\"Predicted Values\")\n",
    "plt.title(\"Actual vs Predicted Values\")\n",
    "plt.show()\n"
   ]
  },
  {
   "cell_type": "code",
   "execution_count": 20,
   "id": "1d6f2b5e",
   "metadata": {},
   "outputs": [
    {
     "data": {
      "image/png": "[encoded data removed]",
      "text/plain": [
       "<Figure size 640x480 with 1 Axes>"
      ]
     },
     "metadata": {},
     "output_type": "display_data"
    }
   ],
   "source": [
    "sns.regplot(x=y_test, y=y_pred, line_kws={\"color\": \"red\"})\n",
    "plt.xlabel(\"Actual Values\")\n",
    "plt.ylabel(\"Predicted Values\")\n",
    "plt.title(\"Regression Line for Actual vs Predicted Values\")\n",
    "plt.show()"
   ]
  },
  {
   "cell_type": "markdown",
   "id": "e580ac89",
   "metadata": {},
   "source": [
    "#### Difference Between Actual and predicted values\n"
   ]
  },
  {
   "cell_type": "code",
   "execution_count": 24,
   "id": "724d61ba",
   "metadata": {},
   "outputs": [
    {
     "data": {
      "text/html": [
       "<div>\n",
       "<style scoped>\n",
       "    .dataframe tbody tr th:only-of-type {\n",
       "        vertical-align: middle;\n",
       "    }\n",
       "\n",
       "    .dataframe tbody tr th {\n",
       "        vertical-align: top;\n",
       "    }\n",
       "\n",
       "    .dataframe thead th {\n",
       "        text-align: right;\n",
       "    }\n",
       "</style>\n",
       "<table border=\"1\" class=\"dataframe\">\n",
       "  <thead>\n",
       "    <tr style=\"text-align: right;\">\n",
       "      <th></th>\n",
       "      <th>Actual</th>\n",
       "      <th>Predicted</th>\n",
       "      <th>Difference</th>\n",
       "    </tr>\n",
       "  </thead>\n",
       "  <tbody>\n",
       "    <tr>\n",
       "      <th>521</th>\n",
       "      <td>91</td>\n",
       "      <td>76.387970</td>\n",
       "      <td>14.612030</td>\n",
       "    </tr>\n",
       "    <tr>\n",
       "      <th>737</th>\n",
       "      <td>53</td>\n",
       "      <td>58.885970</td>\n",
       "      <td>-5.885970</td>\n",
       "    </tr>\n",
       "    <tr>\n",
       "      <th>740</th>\n",
       "      <td>80</td>\n",
       "      <td>76.990265</td>\n",
       "      <td>3.009735</td>\n",
       "    </tr>\n",
       "    <tr>\n",
       "      <th>660</th>\n",
       "      <td>74</td>\n",
       "      <td>76.851804</td>\n",
       "      <td>-2.851804</td>\n",
       "    </tr>\n",
       "    <tr>\n",
       "      <th>411</th>\n",
       "      <td>84</td>\n",
       "      <td>87.627378</td>\n",
       "      <td>-3.627378</td>\n",
       "    </tr>\n",
       "  </tbody>\n",
       "</table>\n",
       "</div>"
      ],
      "text/plain": [
       "     Actual  Predicted  Difference\n",
       "521      91  76.387970   14.612030\n",
       "737      53  58.885970   -5.885970\n",
       "740      80  76.990265    3.009735\n",
       "660      74  76.851804   -2.851804\n",
       "411      84  87.627378   -3.627378"
      ]
     },
     "execution_count": 24,
     "metadata": {},
     "output_type": "execute_result"
    }
   ],
   "source": [
    "pred_df = pd.DataFrame({'Actual': y_test, 'Predicted': y_pred,'Difference': y_test-y_pred})\n",
    "pred_df.head()\n"
   ]
  },
  {
   "cell_type": "code",
   "execution_count": null,
   "id": "412137a0",
   "metadata": {},
   "outputs": [],
   "source": []
  }
 ],
 "metadata": {
  "kernelspec": {
   "display_name": "base",
   "language": "python",
   "name": "python3"
  },
  "language_info": {
   "codemirror_mode": {
    "name": "ipython",
    "version": 3
   },
   "file_extension": ".py",
   "mimetype": "text/x-python",
   "name": "python",
   "nbconvert_exporter": "python",
   "pygments_lexer": "ipython3",
   "version": "3.10.9"
  }
 },
 "nbformat": 4,
 "nbformat_minor": 5
}
